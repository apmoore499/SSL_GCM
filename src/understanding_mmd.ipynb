{
 "cells": [
  {
   "cell_type": "markdown",
   "metadata": {},
   "source": [
    "# understanding MMD \n",
    "\n",
    "\n",
    "##### Goals\n",
    "\n",
    "1. Understand MMD\n",
    "2. Do some example MMD calculations\n"
   ]
  },
  {
   "cell_type": "markdown",
   "metadata": {},
   "source": [
    "## What is MMD\n",
    "\n",
    "MMD, max mean discrepancy, is a method to determine, for two samples x,y, whether they come from the same distribution or not. \n",
    "\n",
    "## What is MMD used for\n",
    "\n",
    "MMD is used as a way of comparing probability distributions when we don't konw the functional form of the distributions. The use of MMD is that it is nonparametric so we do not have to assume the form of the probability distributions in question. Hence it can be powerful for distribution matching in real-world datasets where we don't know how the probabiltiy distribution is generated in the ground-truth sense."
   ]
  },
  {
   "cell_type": "code",
   "execution_count": null,
   "metadata": {},
   "outputs": [],
   "source": [
    "# Central concepts used in MMD\n",
    "\n",
    "\n",
    "MMD makes use of several concepts:\n",
    "    \n",
    "    \n",
    "- Reproducing Kernel Hilbert Space (RKHS)\n",
    "\n",
    "- Riesz Representation Theorem\n",
    "\n",
    "\n",
    "Now we discuss these\n",
    "\n",
    "\n",
    "RKHS\n",
    "\n",
    "\n",
    "A Reproducing Kernel Hilbert Space (RKHS) is a Hilbert space of functions where each evaluation functional is continuous, and every function in the space can be uniquely represented by an inner product with a kernel function associated with that space\n",
    "\n",
    "\n",
    "\n",
    "\n",
    "\n",
    "RKHS is a Hilbert Space of functions wehre each evaluation functional is continuous, and every function in the space can be uniquely represented by an inner product with a kernel function associated with that space.\n",
    "\n",
    "\n",
    "\n"
   ]
  },
  {
   "cell_type": "code",
   "execution_count": null,
   "metadata": {},
   "outputs": [],
   "source": []
  },
  {
   "cell_type": "code",
   "execution_count": null,
   "metadata": {},
   "outputs": [],
   "source": []
  },
  {
   "cell_type": "code",
   "execution_count": null,
   "metadata": {},
   "outputs": [],
   "source": []
  }
 ],
 "metadata": {
  "language_info": {
   "name": "python"
  }
 },
 "nbformat": 4,
 "nbformat_minor": 2
}
