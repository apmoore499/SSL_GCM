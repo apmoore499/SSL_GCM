{
 "cells": [
  {
   "cell_type": "code",
   "execution_count": 1,
   "metadata": {},
   "outputs": [],
   "source": [
    "in_fn='requirements.txt'\n",
    "\n",
    "\n",
    "with open(in_fn) as f:\n",
    "    lines=f.readlines()"
   ]
  },
  {
   "cell_type": "code",
   "execution_count": 11,
   "metadata": {},
   "outputs": [],
   "source": [
    "ll=[l.split( ) for l in lines[2:]]\n",
    "\n",
    "\n",
    "\n",
    "llj=[f'{l[0]}=={l[1]}' for l in ll]\n",
    "\n",
    "llj\n",
    "\n",
    "\n",
    "out_fn='reqs_formatted.txt'\n",
    "\n",
    "\n",
    "with open(out_fn,'w') as f:\n",
    "    for l in llj:\n",
    "        f.write(l+'\\n')"
   ]
  },
  {
   "cell_type": "code",
   "execution_count": null,
   "metadata": {},
   "outputs": [],
   "source": []
  },
  {
   "cell_type": "code",
   "execution_count": null,
   "metadata": {},
   "outputs": [],
   "source": []
  }
 ],
 "metadata": {
  "kernelspec": {
   "display_name": "pointface_env",
   "language": "python",
   "name": "python3"
  },
  "language_info": {
   "codemirror_mode": {
    "name": "ipython",
    "version": 3
   },
   "file_extension": ".py",
   "mimetype": "text/x-python",
   "name": "python",
   "nbconvert_exporter": "python",
   "pygments_lexer": "ipython3",
   "version": "3.9.18"
  }
 },
 "nbformat": 4,
 "nbformat_minor": 2
}
